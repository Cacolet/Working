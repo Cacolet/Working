{
 "cells": [
  {
   "cell_type": "code",
   "execution_count": 13,
   "metadata": {},
   "outputs": [],
   "source": [
    "# 导包\n",
    "import sys\n",
    "import pandas as pd\n",
    "import numpy as np\n",
    "import matplotlib.pyplot as plt\n",
    "from sklearn.metrics import mean_squared_error"
   ]
  },
  {
   "cell_type": "code",
   "execution_count": 14,
   "metadata": {
    "scrolled": true
   },
   "outputs": [
    {
     "data": {
      "text/html": [
       "<div>\n",
       "<style scoped>\n",
       "    .dataframe tbody tr th:only-of-type {\n",
       "        vertical-align: middle;\n",
       "    }\n",
       "\n",
       "    .dataframe tbody tr th {\n",
       "        vertical-align: top;\n",
       "    }\n",
       "\n",
       "    .dataframe thead th {\n",
       "        text-align: right;\n",
       "    }\n",
       "</style>\n",
       "<table border=\"1\" class=\"dataframe\">\n",
       "  <thead>\n",
       "    <tr style=\"text-align: right;\">\n",
       "      <th></th>\n",
       "      <th>ascore</th>\n",
       "      <th>tot_exp</th>\n",
       "      <th>admin_exp_p</th>\n",
       "      <th>fund_eff</th>\n",
       "      <th>fund_exp_p</th>\n",
       "      <th>program_exp_p</th>\n",
       "      <th>fscore</th>\n",
       "      <th>leader_comp</th>\n",
       "      <th>leader_comp_p</th>\n",
       "      <th>tot_rev</th>\n",
       "      <th>score</th>\n",
       "      <th>program_exp</th>\n",
       "      <th>fund_exp</th>\n",
       "      <th>admin_exp</th>\n",
       "    </tr>\n",
       "  </thead>\n",
       "  <tbody>\n",
       "    <tr>\n",
       "      <th>0</th>\n",
       "      <td>100</td>\n",
       "      <td>917313.0</td>\n",
       "      <td>0.101</td>\n",
       "      <td>0.18</td>\n",
       "      <td>0.184</td>\n",
       "      <td>0.714</td>\n",
       "      <td>88.61</td>\n",
       "      <td>0.0</td>\n",
       "      <td>0.0000</td>\n",
       "      <td>1022513.0</td>\n",
       "      <td>91.94</td>\n",
       "      <td>6.549615e+05</td>\n",
       "      <td>168785.592</td>\n",
       "      <td>92648.613</td>\n",
       "    </tr>\n",
       "    <tr>\n",
       "      <th>1</th>\n",
       "      <td>89</td>\n",
       "      <td>5053059.0</td>\n",
       "      <td>0.231</td>\n",
       "      <td>0.05</td>\n",
       "      <td>0.032</td>\n",
       "      <td>0.735</td>\n",
       "      <td>82.85</td>\n",
       "      <td>163341.0</td>\n",
       "      <td>0.0323</td>\n",
       "      <td>5685761.0</td>\n",
       "      <td>85.59</td>\n",
       "      <td>3.713998e+06</td>\n",
       "      <td>161697.888</td>\n",
       "      <td>1167256.629</td>\n",
       "    </tr>\n",
       "    <tr>\n",
       "      <th>2</th>\n",
       "      <td>70</td>\n",
       "      <td>1891500.0</td>\n",
       "      <td>0.114</td>\n",
       "      <td>0.17</td>\n",
       "      <td>0.197</td>\n",
       "      <td>0.687</td>\n",
       "      <td>86.74</td>\n",
       "      <td>114791.0</td>\n",
       "      <td>0.0606</td>\n",
       "      <td>2140836.0</td>\n",
       "      <td>76.80</td>\n",
       "      <td>1.299460e+06</td>\n",
       "      <td>372625.500</td>\n",
       "      <td>215631.000</td>\n",
       "    </tr>\n",
       "    <tr>\n",
       "      <th>3</th>\n",
       "      <td>93</td>\n",
       "      <td>22506582.0</td>\n",
       "      <td>0.092</td>\n",
       "      <td>0.08</td>\n",
       "      <td>0.054</td>\n",
       "      <td>0.852</td>\n",
       "      <td>91.03</td>\n",
       "      <td>124805.0</td>\n",
       "      <td>0.0055</td>\n",
       "      <td>22203175.0</td>\n",
       "      <td>91.95</td>\n",
       "      <td>1.917561e+07</td>\n",
       "      <td>1215355.428</td>\n",
       "      <td>2070605.544</td>\n",
       "    </tr>\n",
       "    <tr>\n",
       "      <th>4</th>\n",
       "      <td>100</td>\n",
       "      <td>5594243.0</td>\n",
       "      <td>0.126</td>\n",
       "      <td>0.12</td>\n",
       "      <td>0.122</td>\n",
       "      <td>0.750</td>\n",
       "      <td>86.23</td>\n",
       "      <td>219002.0</td>\n",
       "      <td>0.0391</td>\n",
       "      <td>6935506.0</td>\n",
       "      <td>90.26</td>\n",
       "      <td>4.195682e+06</td>\n",
       "      <td>682497.646</td>\n",
       "      <td>704874.618</td>\n",
       "    </tr>\n",
       "    <tr>\n",
       "      <th>...</th>\n",
       "      <td>...</td>\n",
       "      <td>...</td>\n",
       "      <td>...</td>\n",
       "      <td>...</td>\n",
       "      <td>...</td>\n",
       "      <td>...</td>\n",
       "      <td>...</td>\n",
       "      <td>...</td>\n",
       "      <td>...</td>\n",
       "      <td>...</td>\n",
       "      <td>...</td>\n",
       "      <td>...</td>\n",
       "      <td>...</td>\n",
       "      <td>...</td>\n",
       "    </tr>\n",
       "    <tr>\n",
       "      <th>7394</th>\n",
       "      <td>100</td>\n",
       "      <td>24642028.0</td>\n",
       "      <td>0.014</td>\n",
       "      <td>0.02</td>\n",
       "      <td>0.028</td>\n",
       "      <td>0.957</td>\n",
       "      <td>91.63</td>\n",
       "      <td>108269.0</td>\n",
       "      <td>0.0043</td>\n",
       "      <td>25063245.0</td>\n",
       "      <td>94.08</td>\n",
       "      <td>2.358242e+07</td>\n",
       "      <td>689976.784</td>\n",
       "      <td>344988.392</td>\n",
       "    </tr>\n",
       "    <tr>\n",
       "      <th>7395</th>\n",
       "      <td>100</td>\n",
       "      <td>47475099.0</td>\n",
       "      <td>0.013</td>\n",
       "      <td>0.02</td>\n",
       "      <td>0.027</td>\n",
       "      <td>0.959</td>\n",
       "      <td>82.80</td>\n",
       "      <td>0.0</td>\n",
       "      <td>0.0000</td>\n",
       "      <td>47715473.0</td>\n",
       "      <td>87.83</td>\n",
       "      <td>4.552862e+07</td>\n",
       "      <td>1281827.673</td>\n",
       "      <td>617176.287</td>\n",
       "    </tr>\n",
       "    <tr>\n",
       "      <th>7397</th>\n",
       "      <td>100</td>\n",
       "      <td>47886362.0</td>\n",
       "      <td>0.008</td>\n",
       "      <td>0.01</td>\n",
       "      <td>0.010</td>\n",
       "      <td>0.980</td>\n",
       "      <td>89.72</td>\n",
       "      <td>137344.0</td>\n",
       "      <td>0.0028</td>\n",
       "      <td>47579889.0</td>\n",
       "      <td>92.73</td>\n",
       "      <td>4.692863e+07</td>\n",
       "      <td>478863.620</td>\n",
       "      <td>383090.896</td>\n",
       "    </tr>\n",
       "    <tr>\n",
       "      <th>7398</th>\n",
       "      <td>100</td>\n",
       "      <td>33000454.0</td>\n",
       "      <td>0.021</td>\n",
       "      <td>0.02</td>\n",
       "      <td>0.021</td>\n",
       "      <td>0.957</td>\n",
       "      <td>80.44</td>\n",
       "      <td>98448.0</td>\n",
       "      <td>0.0029</td>\n",
       "      <td>33963612.0</td>\n",
       "      <td>86.16</td>\n",
       "      <td>3.158143e+07</td>\n",
       "      <td>693009.534</td>\n",
       "      <td>693009.534</td>\n",
       "    </tr>\n",
       "    <tr>\n",
       "      <th>7399</th>\n",
       "      <td>96</td>\n",
       "      <td>59528874.0</td>\n",
       "      <td>0.010</td>\n",
       "      <td>0.01</td>\n",
       "      <td>0.019</td>\n",
       "      <td>0.970</td>\n",
       "      <td>88.89</td>\n",
       "      <td>110500.0</td>\n",
       "      <td>0.0018</td>\n",
       "      <td>62580475.0</td>\n",
       "      <td>91.65</td>\n",
       "      <td>5.774301e+07</td>\n",
       "      <td>1131048.606</td>\n",
       "      <td>595288.740</td>\n",
       "    </tr>\n",
       "  </tbody>\n",
       "</table>\n",
       "<p>7004 rows × 14 columns</p>\n",
       "</div>"
      ],
      "text/plain": [
       "      ascore     tot_exp  admin_exp_p  fund_eff  fund_exp_p  program_exp_p  \\\n",
       "0        100    917313.0        0.101      0.18       0.184          0.714   \n",
       "1         89   5053059.0        0.231      0.05       0.032          0.735   \n",
       "2         70   1891500.0        0.114      0.17       0.197          0.687   \n",
       "3         93  22506582.0        0.092      0.08       0.054          0.852   \n",
       "4        100   5594243.0        0.126      0.12       0.122          0.750   \n",
       "...      ...         ...          ...       ...         ...            ...   \n",
       "7394     100  24642028.0        0.014      0.02       0.028          0.957   \n",
       "7395     100  47475099.0        0.013      0.02       0.027          0.959   \n",
       "7397     100  47886362.0        0.008      0.01       0.010          0.980   \n",
       "7398     100  33000454.0        0.021      0.02       0.021          0.957   \n",
       "7399      96  59528874.0        0.010      0.01       0.019          0.970   \n",
       "\n",
       "      fscore  leader_comp  leader_comp_p     tot_rev  score   program_exp  \\\n",
       "0      88.61          0.0         0.0000   1022513.0  91.94  6.549615e+05   \n",
       "1      82.85     163341.0         0.0323   5685761.0  85.59  3.713998e+06   \n",
       "2      86.74     114791.0         0.0606   2140836.0  76.80  1.299460e+06   \n",
       "3      91.03     124805.0         0.0055  22203175.0  91.95  1.917561e+07   \n",
       "4      86.23     219002.0         0.0391   6935506.0  90.26  4.195682e+06   \n",
       "...      ...          ...            ...         ...    ...           ...   \n",
       "7394   91.63     108269.0         0.0043  25063245.0  94.08  2.358242e+07   \n",
       "7395   82.80          0.0         0.0000  47715473.0  87.83  4.552862e+07   \n",
       "7397   89.72     137344.0         0.0028  47579889.0  92.73  4.692863e+07   \n",
       "7398   80.44      98448.0         0.0029  33963612.0  86.16  3.158143e+07   \n",
       "7399   88.89     110500.0         0.0018  62580475.0  91.65  5.774301e+07   \n",
       "\n",
       "         fund_exp    admin_exp  \n",
       "0      168785.592    92648.613  \n",
       "1      161697.888  1167256.629  \n",
       "2      372625.500   215631.000  \n",
       "3     1215355.428  2070605.544  \n",
       "4      682497.646   704874.618  \n",
       "...           ...          ...  \n",
       "7394   689976.784   344988.392  \n",
       "7395  1281827.673   617176.287  \n",
       "7397   478863.620   383090.896  \n",
       "7398   693009.534   693009.534  \n",
       "7399  1131048.606   595288.740  \n",
       "\n",
       "[7004 rows x 14 columns]"
      ]
     },
     "execution_count": 14,
     "metadata": {},
     "output_type": "execute_result"
    }
   ],
   "source": [
    "# 数据预处理\n",
    "train_data = pd.read_csv('work2/train.csv')\n",
    "train_data = train_data.loc[:, ~train_data.columns.str.contains(\"^Unnamed\")]\n",
    "\n",
    "col = train_data.columns\n",
    "remove = ['category', 'description', 'ein', 'leader', 'motto', 'name', 'state', 'subcategory', 'size']\n",
    "keys = []\n",
    "for i in col:\n",
    "    if i not in remove:\n",
    "        keys.append(i)\n",
    "train_data = train_data[keys]\n",
    "\n",
    "for k in keys:\n",
    "    train_data[k] = pd.to_numeric(train_data[k], errors='coerce')\n",
    "\n",
    "\n",
    "train_data = train_data.dropna()        # 清洗NaN\n",
    "\n",
    "train_data"
   ]
  },
  {
   "cell_type": "code",
   "execution_count": 15,
   "metadata": {},
   "outputs": [
    {
     "name": "stdout",
     "output_type": "stream",
     "text": [
      "<class 'pandas.core.frame.DataFrame'>\n",
      "Int64Index: 7004 entries, 0 to 7399\n",
      "Data columns (total 14 columns):\n",
      " #   Column         Non-Null Count  Dtype  \n",
      "---  ------         --------------  -----  \n",
      " 0   ascore         7004 non-null   int64  \n",
      " 1   tot_exp        7004 non-null   float64\n",
      " 2   admin_exp_p    7004 non-null   float64\n",
      " 3   fund_eff       7004 non-null   float64\n",
      " 4   fund_exp_p     7004 non-null   float64\n",
      " 5   program_exp_p  7004 non-null   float64\n",
      " 6   fscore         7004 non-null   float64\n",
      " 7   leader_comp    7004 non-null   float64\n",
      " 8   leader_comp_p  7004 non-null   float64\n",
      " 9   tot_rev        7004 non-null   float64\n",
      " 10  score          7004 non-null   float64\n",
      " 11  program_exp    7004 non-null   float64\n",
      " 12  fund_exp       7004 non-null   float64\n",
      " 13  admin_exp      7004 non-null   float64\n",
      "dtypes: float64(13), int64(1)\n",
      "memory usage: 820.8 KB\n"
     ]
    }
   ],
   "source": [
    "\n",
    "train_data.info()"
   ]
  },
  {
   "cell_type": "code",
   "execution_count": 16,
   "metadata": {
    "scrolled": false
   },
   "outputs": [
    {
     "name": "stdout",
     "output_type": "stream",
     "text": [
      "      score\n",
      "0     91.94\n",
      "1     85.59\n",
      "2     76.80\n",
      "3     91.95\n",
      "4     90.26\n",
      "...     ...\n",
      "7394  94.08\n",
      "7395  87.83\n",
      "7397  92.73\n",
      "7398  86.16\n",
      "7399  91.65\n",
      "\n",
      "[7004 rows x 1 columns]\n"
     ]
    },
    {
     "data": {
      "text/plain": [
       "array([[91.94],\n",
       "       [85.59],\n",
       "       [76.8 ],\n",
       "       ...,\n",
       "       [92.73],\n",
       "       [86.16],\n",
       "       [91.65]])"
      ]
     },
     "execution_count": 16,
     "metadata": {},
     "output_type": "execute_result"
    }
   ],
   "source": [
    "# 提取目标值 score\n",
    "target_data = train_data.iloc[:, 10:11]\n",
    "print(target_data)\n",
    "y_data = np.array(target_data)\n",
    "y_data"
   ]
  },
  {
   "cell_type": "code",
   "execution_count": 17,
   "metadata": {},
   "outputs": [
    {
     "data": {
      "text/plain": [
       "array([[ 0.96111665, -0.2081017 , -0.07391844, ..., -0.20062378,\n",
       "        -0.16723311, -0.23493459],\n",
       "       [-0.2632467 , -0.14638688,  2.0116113 , ..., -0.14965111,\n",
       "        -0.16874849, -0.00581643],\n",
       "       [-2.37805613, -0.1935646 ,  0.13463454, ..., -0.1898845 ,\n",
       "        -0.12365139, -0.20871341],\n",
       "       ...,\n",
       "       [ 0.96111665,  0.49278432, -1.56587432, ...,  0.57043356,\n",
       "        -0.10093729, -0.17300913],\n",
       "       [ 0.96111665,  0.2706524 , -1.35732135, ...,  0.31470345,\n",
       "        -0.0551521 , -0.10693109],\n",
       "       [ 0.51589361,  0.66651732, -1.53378925, ...,  0.75063325,\n",
       "         0.03850227, -0.12776623]])"
      ]
     },
     "execution_count": 17,
     "metadata": {},
     "output_type": "execute_result"
    }
   ],
   "source": [
    "x_data_col = [i for i in train_data.columns if i not in ['score']]\n",
    "x_data = train_data[x_data_col]\n",
    "\n",
    "# 提取特征名称\n",
    "feature_name = x_data.columns\n",
    "feature_name = feature_name[0:]\n",
    "feature_name = np.array(feature_name)\n",
    "feature_name\n",
    "\n",
    "x_data = np.array(x_data)\n",
    "x_data\n",
    "\n",
    "from sklearn.preprocessing import StandardScaler        # 标准化\n",
    "scalar = StandardScaler()\n",
    "\n",
    "train_data = np.array(train_data)\n",
    "x_array = scalar.fit_transform(x_data)\n",
    "x_array"
   ]
  },
  {
   "cell_type": "code",
   "execution_count": 18,
   "metadata": {
    "scrolled": false
   },
   "outputs": [
    {
     "data": {
      "image/png": "[encoded data removed]",
      "text/plain": [
       "<Figure size 432x288 with 1 Axes>"
      ]
     },
     "metadata": {
      "needs_background": "light"
     },
     "output_type": "display_data"
    },
    {
     "data": {
      "image/png": "[encoded data removed]",
      "text/plain": [
       "<Figure size 432x288 with 1 Axes>"
      ]
     },
     "metadata": {
      "needs_background": "light"
     },
     "output_type": "display_data"
    },
    {
     "data": {
      "image/png": "[encoded data removed]",
      "text/plain": [
       "<Figure size 432x288 with 1 Axes>"
      ]
     },
     "metadata": {
      "needs_background": "light"
     },
     "output_type": "display_data"
    },
    {
     "data": {
      "image/png": "[encoded data removed]",
      "text/plain": [
       "<Figure size 432x288 with 1 Axes>"
      ]
     },
     "metadata": {
      "needs_background": "light"
     },
     "output_type": "display_data"
    },
    {
     "data": {
      "image/png": "[encoded data removed]",
      "text/plain": [
       "<Figure size 432x288 with 1 Axes>"
      ]
     },
     "metadata": {
      "needs_background": "light"
     },
     "output_type": "display_data"
    },
    {
     "data": {
      "image/png": "[encoded data removed]",
      "text/plain": [
       "<Figure size 432x288 with 1 Axes>"
      ]
     },
     "metadata": {
      "needs_background": "light"
     },
     "output_type": "display_data"
    },
    {
     "data": {
      "image/png": "[encoded data removed]",
      "text/plain": [
       "<Figure size 432x288 with 1 Axes>"
      ]
     },
     "metadata": {
      "needs_background": "light"
     },
     "output_type": "display_data"
    },
    {
     "data": {
      "image/png": "[encoded data removed]",
      "text/plain": [
       "<Figure size 432x288 with 1 Axes>"
      ]
     },
     "metadata": {
      "needs_background": "light"
     },
     "output_type": "display_data"
    },
    {
     "data": {
      "image/png": "[encoded data removed]",
      "text/plain": [
       "<Figure size 432x288 with 1 Axes>"
      ]
     },
     "metadata": {
      "needs_background": "light"
     },
     "output_type": "display_data"
    },
    {
     "data": {
      "image/png": "[encoded data removed]",
      "text/plain": [
       "<Figure size 432x288 with 1 Axes>"
      ]
     },
     "metadata": {
      "needs_background": "light"
     },
     "output_type": "display_data"
    },
    {
     "data": {
      "image/png": "[encoded data removed]",
      "text/plain": [
       "<Figure size 432x288 with 1 Axes>"
      ]
     },
     "metadata": {
      "needs_background": "light"
     },
     "output_type": "display_data"
    },
    {
     "data": {
      "image/png": "[encoded data removed]",
      "text/plain": [
       "<Figure size 432x288 with 1 Axes>"
      ]
     },
     "metadata": {
      "needs_background": "light"
     },
     "output_type": "display_data"
    },
    {
     "data": {
      "image/png": "[encoded data removed]",
      "text/plain": [
       "<Figure size 432x288 with 1 Axes>"
      ]
     },
     "metadata": {
      "needs_background": "light"
     },
     "output_type": "display_data"
    }
   ],
   "source": [
    "for i in range(13):\n",
    "    plt.scatter(x_array[:, i], y_data, s=10)\n",
    "    plt.title(feature_name[i])\n",
    "    plt.show()"
   ]
  },
  {
   "cell_type": "code",
   "execution_count": 7,
   "metadata": {},
   "outputs": [],
   "source": [
    "# 根据以上各个特征值与目标值scroe形成各自的散点图 \n",
    "# 经过分析 可知 ascore admin_exp_p  program_exp_p  fscore\n",
    "# 四个主要特征于慈善机构的评分相关性最大  因此 剔除其余不相关特征"
   ]
  },
  {
   "cell_type": "code",
   "execution_count": 19,
   "metadata": {},
   "outputs": [
    {
     "data": {
      "text/plain": [
       "array([[1.00000000e+02, 1.01000000e-01, 7.14000000e-01, 8.86100000e+01,\n",
       "        9.26486130e+04],\n",
       "       [8.90000000e+01, 2.31000000e-01, 7.35000000e-01, 8.28500000e+01,\n",
       "        1.16725663e+06],\n",
       "       [7.00000000e+01, 1.14000000e-01, 6.87000000e-01, 8.67400000e+01,\n",
       "        2.15631000e+05],\n",
       "       ...,\n",
       "       [1.00000000e+02, 8.00000000e-03, 9.80000000e-01, 8.97200000e+01,\n",
       "        3.83090896e+05],\n",
       "       [1.00000000e+02, 2.10000000e-02, 9.57000000e-01, 8.04400000e+01,\n",
       "        6.93009534e+05],\n",
       "       [9.60000000e+01, 1.00000000e-02, 9.70000000e-01, 8.88900000e+01,\n",
       "        5.95288740e+05]])"
      ]
     },
     "execution_count": 19,
     "metadata": {},
     "output_type": "execute_result"
    }
   ],
   "source": [
    "# 剔除不相关特征\n",
    "temp = []\n",
    "\n",
    "for i in range(13):\n",
    "    if feature_name[i]=='ascore' or feature_name[i]=='program_exp_p' or feature_name[i]=='fscore' or feature_name[i]=='admin_exp_p':\n",
    "        continue;\n",
    "    temp.append(i)\n",
    "\n",
    "train_data = np.delete(train_data, temp, axis=1)\n",
    "\n",
    "x_data = train_data.astype(np.float)\n",
    "x_data"
   ]
  },
  {
   "cell_type": "code",
   "execution_count": 20,
   "metadata": {},
   "outputs": [],
   "source": [
    "# 模型训练\n",
    "from sklearn.model_selection import train_test_split\n",
    "x_train, x_test, y_train, y_test = train_test_split(x_data, y_data, random_state=0, test_size=0.35)"
   ]
  },
  {
   "cell_type": "code",
   "execution_count": 21,
   "metadata": {},
   "outputs": [
    {
     "data": {
      "text/plain": [
       "1.848318115638186"
      ]
     },
     "execution_count": 21,
     "metadata": {},
     "output_type": "execute_result"
    }
   ],
   "source": [
    "# 回归模型评估\n",
    "from sklearn import linear_model\n",
    "\n",
    "lr = linear_model.LinearRegression()\n",
    "lr.fit(x_train, y_train)\n",
    "lr_y_predict = lr.predict(x_test)\n",
    "\n",
    "mean_squared_error(y_test, lr_y_predict)"
   ]
  },
  {
   "cell_type": "code",
   "execution_count": 22,
   "metadata": {},
   "outputs": [
    {
     "name": "stderr",
     "output_type": "stream",
     "text": [
      "D:\\anaconda\\lib\\site-packages\\sklearn\\linear_model\\_ridge.py:147: LinAlgWarning: Ill-conditioned matrix (rcond=1.0315e-16): result may not be accurate.\n",
      "  return linalg.solve(A, Xy, sym_pos=True,\n"
     ]
    },
    {
     "data": {
      "text/plain": [
       "1.8475503460701934"
      ]
     },
     "execution_count": 22,
     "metadata": {},
     "output_type": "execute_result"
    }
   ],
   "source": [
    "# 岭回归\n",
    "rr = linear_model.Ridge()\n",
    "rr.fit(x_train, y_train)\n",
    "rr_y_predict = rr.predict(x_test)\n",
    "\n",
    "mean_squared_error(y_test, rr_y_predict)"
   ]
  },
  {
   "cell_type": "code",
   "execution_count": 23,
   "metadata": {},
   "outputs": [
    {
     "data": {
      "text/plain": [
       "1.8482900504400654"
      ]
     },
     "execution_count": 23,
     "metadata": {},
     "output_type": "execute_result"
    }
   ],
   "source": [
    "# Lasso\n",
    "lassor = linear_model.Lasso(alpha=.00001)\n",
    "lassor.fit(x_train, y_train)\n",
    "lassor_y_predict = lassor.predict(x_test)\n",
    "\n",
    "mean_squared_error(y_test, lassor_y_predict)"
   ]
  },
  {
   "cell_type": "code",
   "execution_count": 25,
   "metadata": {},
   "outputs": [
    {
     "data": {
      "text/plain": [
       "62.09418008786442"
      ]
     },
     "execution_count": 25,
     "metadata": {},
     "output_type": "execute_result"
    }
   ],
   "source": [
    "# SVR\n",
    "from sklearn.svm import SVR\n",
    "\n",
    "svr = SVR()\n",
    "svr.fit(x_train, y_train.ravel())\n",
    "predict_svr = svr.predict(x_test)\n",
    "mean_squared_error(predict_svr, y_test)"
   ]
  },
  {
   "cell_type": "code",
   "execution_count": 26,
   "metadata": {},
   "outputs": [
    {
     "data": {
      "text/plain": [
       "0.12110564258156573"
      ]
     },
     "execution_count": 26,
     "metadata": {},
     "output_type": "execute_result"
    }
   ],
   "source": [
    "# 随机森林\n",
    "from sklearn.ensemble import RandomForestRegressor\n",
    "\n",
    "rfr = RandomForestRegressor()\n",
    "rfr.fit(x_train, y_train.ravel())\n",
    "predict_rfr = rfr.predict(x_test)\n",
    "mean_squared_error(y_test, predict_rfr)"
   ]
  },
  {
   "cell_type": "code",
   "execution_count": 27,
   "metadata": {},
   "outputs": [
    {
     "data": {
      "text/plain": [
       "0.09239982635822665"
      ]
     },
     "execution_count": 27,
     "metadata": {},
     "output_type": "execute_result"
    }
   ],
   "source": [
    "# 梯度提升\n",
    "from sklearn.ensemble import GradientBoostingRegressor\n",
    "\n",
    "gbr = GradientBoostingRegressor()\n",
    "gbr.fit(x_train, y_train.ravel())\n",
    "predict_gbr = gbr.predict(x_test)\n",
    "mean_squared_error(y_test, predict_gbr)"
   ]
  },
  {
   "cell_type": "code",
   "execution_count": 29,
   "metadata": {},
   "outputs": [
    {
     "data": {
      "text/html": [
       "<div>\n",
       "<style scoped>\n",
       "    .dataframe tbody tr th:only-of-type {\n",
       "        vertical-align: middle;\n",
       "    }\n",
       "\n",
       "    .dataframe tbody tr th {\n",
       "        vertical-align: top;\n",
       "    }\n",
       "\n",
       "    .dataframe thead th {\n",
       "        text-align: right;\n",
       "    }\n",
       "</style>\n",
       "<table border=\"1\" class=\"dataframe\">\n",
       "  <thead>\n",
       "    <tr style=\"text-align: right;\">\n",
       "      <th></th>\n",
       "      <th>ascore</th>\n",
       "      <th>tot_exp</th>\n",
       "      <th>admin_exp_p</th>\n",
       "      <th>fund_eff</th>\n",
       "      <th>fund_exp_p</th>\n",
       "      <th>program_exp_p</th>\n",
       "      <th>fscore</th>\n",
       "      <th>leader_comp</th>\n",
       "      <th>leader_comp_p</th>\n",
       "      <th>tot_rev</th>\n",
       "      <th>program_exp</th>\n",
       "      <th>fund_exp</th>\n",
       "      <th>admin_exp</th>\n",
       "    </tr>\n",
       "  </thead>\n",
       "  <tbody>\n",
       "    <tr>\n",
       "      <th>0</th>\n",
       "      <td>97</td>\n",
       "      <td>2826138224</td>\n",
       "      <td>0.003</td>\n",
       "      <td>0.01</td>\n",
       "      <td>0.009</td>\n",
       "      <td>0.986</td>\n",
       "      <td>92.50</td>\n",
       "      <td>806288.0</td>\n",
       "      <td>0.0002</td>\n",
       "      <td>2827633478</td>\n",
       "      <td>2.786572e+09</td>\n",
       "      <td>2.543524e+07</td>\n",
       "      <td>8.478415e+06</td>\n",
       "    </tr>\n",
       "    <tr>\n",
       "      <th>1</th>\n",
       "      <td>85</td>\n",
       "      <td>1652817</td>\n",
       "      <td>0.078</td>\n",
       "      <td>0.06</td>\n",
       "      <td>0.064</td>\n",
       "      <td>0.856</td>\n",
       "      <td>84.38</td>\n",
       "      <td>60937.0</td>\n",
       "      <td>0.0368</td>\n",
       "      <td>1756065</td>\n",
       "      <td>1.414811e+06</td>\n",
       "      <td>1.057803e+05</td>\n",
       "      <td>1.289197e+05</td>\n",
       "    </tr>\n",
       "    <tr>\n",
       "      <th>2</th>\n",
       "      <td>97</td>\n",
       "      <td>426200732</td>\n",
       "      <td>0.025</td>\n",
       "      <td>0.04</td>\n",
       "      <td>0.043</td>\n",
       "      <td>0.931</td>\n",
       "      <td>92.68</td>\n",
       "      <td>502805.0</td>\n",
       "      <td>0.0011</td>\n",
       "      <td>409829103</td>\n",
       "      <td>3.967929e+08</td>\n",
       "      <td>1.832663e+07</td>\n",
       "      <td>1.065502e+07</td>\n",
       "    </tr>\n",
       "    <tr>\n",
       "      <th>3</th>\n",
       "      <td>100</td>\n",
       "      <td>39826949</td>\n",
       "      <td>0.067</td>\n",
       "      <td>0.07</td>\n",
       "      <td>0.074</td>\n",
       "      <td>0.857</td>\n",
       "      <td>88.47</td>\n",
       "      <td>229365.0</td>\n",
       "      <td>0.0057</td>\n",
       "      <td>41985008</td>\n",
       "      <td>3.413170e+07</td>\n",
       "      <td>2.947194e+06</td>\n",
       "      <td>2.668406e+06</td>\n",
       "    </tr>\n",
       "    <tr>\n",
       "      <th>4</th>\n",
       "      <td>100</td>\n",
       "      <td>5751235</td>\n",
       "      <td>0.053</td>\n",
       "      <td>0.01</td>\n",
       "      <td>0.014</td>\n",
       "      <td>0.932</td>\n",
       "      <td>95.00</td>\n",
       "      <td>89606.0</td>\n",
       "      <td>0.0155</td>\n",
       "      <td>5662565</td>\n",
       "      <td>5.360151e+06</td>\n",
       "      <td>8.051729e+04</td>\n",
       "      <td>3.048155e+05</td>\n",
       "    </tr>\n",
       "    <tr>\n",
       "      <th>...</th>\n",
       "      <td>...</td>\n",
       "      <td>...</td>\n",
       "      <td>...</td>\n",
       "      <td>...</td>\n",
       "      <td>...</td>\n",
       "      <td>...</td>\n",
       "      <td>...</td>\n",
       "      <td>...</td>\n",
       "      <td>...</td>\n",
       "      <td>...</td>\n",
       "      <td>...</td>\n",
       "      <td>...</td>\n",
       "      <td>...</td>\n",
       "    </tr>\n",
       "    <tr>\n",
       "      <th>995</th>\n",
       "      <td>92</td>\n",
       "      <td>3283832</td>\n",
       "      <td>0.231</td>\n",
       "      <td>0.22</td>\n",
       "      <td>0.196</td>\n",
       "      <td>0.572</td>\n",
       "      <td>71.94</td>\n",
       "      <td>289028.0</td>\n",
       "      <td>0.0880</td>\n",
       "      <td>3296070</td>\n",
       "      <td>1.878352e+06</td>\n",
       "      <td>6.436311e+05</td>\n",
       "      <td>7.585652e+05</td>\n",
       "    </tr>\n",
       "    <tr>\n",
       "      <th>996</th>\n",
       "      <td>59</td>\n",
       "      <td>1387396</td>\n",
       "      <td>0.147</td>\n",
       "      <td>0.27</td>\n",
       "      <td>0.285</td>\n",
       "      <td>0.567</td>\n",
       "      <td>60.71</td>\n",
       "      <td>NaN</td>\n",
       "      <td>NaN</td>\n",
       "      <td>1446929</td>\n",
       "      <td>7.866535e+05</td>\n",
       "      <td>3.954079e+05</td>\n",
       "      <td>2.039472e+05</td>\n",
       "    </tr>\n",
       "    <tr>\n",
       "      <th>997</th>\n",
       "      <td>100</td>\n",
       "      <td>2419474</td>\n",
       "      <td>0.061</td>\n",
       "      <td>0.04</td>\n",
       "      <td>0.052</td>\n",
       "      <td>0.885</td>\n",
       "      <td>83.13</td>\n",
       "      <td>130000.0</td>\n",
       "      <td>0.0537</td>\n",
       "      <td>2442069</td>\n",
       "      <td>2.141234e+06</td>\n",
       "      <td>1.258126e+05</td>\n",
       "      <td>1.475879e+05</td>\n",
       "    </tr>\n",
       "    <tr>\n",
       "      <th>998</th>\n",
       "      <td>100</td>\n",
       "      <td>14606304</td>\n",
       "      <td>0.128</td>\n",
       "      <td>0.12</td>\n",
       "      <td>0.073</td>\n",
       "      <td>0.797</td>\n",
       "      <td>95.64</td>\n",
       "      <td>129314.0</td>\n",
       "      <td>0.0088</td>\n",
       "      <td>12608419</td>\n",
       "      <td>1.164122e+07</td>\n",
       "      <td>1.066260e+06</td>\n",
       "      <td>1.869607e+06</td>\n",
       "    </tr>\n",
       "    <tr>\n",
       "      <th>999</th>\n",
       "      <td>100</td>\n",
       "      <td>31969350</td>\n",
       "      <td>0.148</td>\n",
       "      <td>0.19</td>\n",
       "      <td>0.046</td>\n",
       "      <td>0.805</td>\n",
       "      <td>89.10</td>\n",
       "      <td>480410.0</td>\n",
       "      <td>0.0150</td>\n",
       "      <td>31756963</td>\n",
       "      <td>2.573533e+07</td>\n",
       "      <td>1.470590e+06</td>\n",
       "      <td>4.731464e+06</td>\n",
       "    </tr>\n",
       "  </tbody>\n",
       "</table>\n",
       "<p>1000 rows × 13 columns</p>\n",
       "</div>"
      ],
      "text/plain": [
       "     ascore     tot_exp  admin_exp_p  fund_eff  fund_exp_p  program_exp_p  \\\n",
       "0        97  2826138224        0.003      0.01       0.009          0.986   \n",
       "1        85     1652817        0.078      0.06       0.064          0.856   \n",
       "2        97   426200732        0.025      0.04       0.043          0.931   \n",
       "3       100    39826949        0.067      0.07       0.074          0.857   \n",
       "4       100     5751235        0.053      0.01       0.014          0.932   \n",
       "..      ...         ...          ...       ...         ...            ...   \n",
       "995      92     3283832        0.231      0.22       0.196          0.572   \n",
       "996      59     1387396        0.147      0.27       0.285          0.567   \n",
       "997     100     2419474        0.061      0.04       0.052          0.885   \n",
       "998     100    14606304        0.128      0.12       0.073          0.797   \n",
       "999     100    31969350        0.148      0.19       0.046          0.805   \n",
       "\n",
       "     fscore  leader_comp  leader_comp_p     tot_rev   program_exp  \\\n",
       "0     92.50     806288.0         0.0002  2827633478  2.786572e+09   \n",
       "1     84.38      60937.0         0.0368     1756065  1.414811e+06   \n",
       "2     92.68     502805.0         0.0011   409829103  3.967929e+08   \n",
       "3     88.47     229365.0         0.0057    41985008  3.413170e+07   \n",
       "4     95.00      89606.0         0.0155     5662565  5.360151e+06   \n",
       "..      ...          ...            ...         ...           ...   \n",
       "995   71.94     289028.0         0.0880     3296070  1.878352e+06   \n",
       "996   60.71          NaN            NaN     1446929  7.866535e+05   \n",
       "997   83.13     130000.0         0.0537     2442069  2.141234e+06   \n",
       "998   95.64     129314.0         0.0088    12608419  1.164122e+07   \n",
       "999   89.10     480410.0         0.0150    31756963  2.573533e+07   \n",
       "\n",
       "         fund_exp     admin_exp  \n",
       "0    2.543524e+07  8.478415e+06  \n",
       "1    1.057803e+05  1.289197e+05  \n",
       "2    1.832663e+07  1.065502e+07  \n",
       "3    2.947194e+06  2.668406e+06  \n",
       "4    8.051729e+04  3.048155e+05  \n",
       "..            ...           ...  \n",
       "995  6.436311e+05  7.585652e+05  \n",
       "996  3.954079e+05  2.039472e+05  \n",
       "997  1.258126e+05  1.475879e+05  \n",
       "998  1.066260e+06  1.869607e+06  \n",
       "999  1.470590e+06  4.731464e+06  \n",
       "\n",
       "[1000 rows x 13 columns]"
      ]
     },
     "execution_count": 29,
     "metadata": {},
     "output_type": "execute_result"
    }
   ],
   "source": [
    "# 预测数据\n",
    "test_data = pd.read_csv('data/test.csv')\n",
    "test_data = test_data.drop(columns=['category', 'description', 'ein', 'leader', 'motto', 'name', 'state', 'subcategory', 'size'])\n",
    "test_data"
   ]
  },
  {
   "cell_type": "code",
   "execution_count": 30,
   "metadata": {},
   "outputs": [
    {
     "data": {
      "text/plain": [
       "array(['ascore', 'tot_exp', 'admin_exp_p', 'fund_eff', 'fund_exp_p',\n",
       "       'program_exp_p', 'fscore', 'leader_comp', 'leader_comp_p',\n",
       "       'tot_rev', 'program_exp', 'fund_exp', 'admin_exp'], dtype=object)"
      ]
     },
     "execution_count": 30,
     "metadata": {},
     "output_type": "execute_result"
    }
   ],
   "source": [
    "# 提取测试集特征名\n",
    "\n",
    "name = test_data.columns\n",
    "name = np.array(name)\n",
    "name"
   ]
  },
  {
   "cell_type": "code",
   "execution_count": 32,
   "metadata": {},
   "outputs": [
    {
     "data": {
      "text/plain": [
       "array([[9.700e+01, 3.000e-03, 9.860e-01, 9.250e+01],\n",
       "       [8.500e+01, 7.800e-02, 8.560e-01, 8.438e+01],\n",
       "       [9.700e+01, 2.500e-02, 9.310e-01, 9.268e+01],\n",
       "       ...,\n",
       "       [1.000e+02, 6.100e-02, 8.850e-01, 8.313e+01],\n",
       "       [1.000e+02, 1.280e-01, 7.970e-01, 9.564e+01],\n",
       "       [1.000e+02, 1.480e-01, 8.050e-01, 8.910e+01]])"
      ]
     },
     "execution_count": 32,
     "metadata": {},
     "output_type": "execute_result"
    }
   ],
   "source": [
    "# 剔除不相关特征数据\n",
    "temp_ = []\n",
    "\n",
    "for i in range(13):\n",
    "    if name[i]=='ascore' or name[i]=='program_exp_p' or name[i]=='fscore' or name[i]=='admin_exp_p':\n",
    "        continue;\n",
    "    temp_.append(i)\n",
    "\n",
    "test_x = np.array(test_data)\n",
    "test_x = np.delete(test_x, temp_, axis=1)\n",
    "test_x = test_x.astype(np.float)\n",
    "test_x"
   ]
  },
  {
   "cell_type": "code",
   "execution_count": 33,
   "metadata": {},
   "outputs": [
    {
     "ename": "UnicodeEncodeError",
     "evalue": "'ascii' codec can't encode characters in position 18-20: ordinal not in range(128)",
     "output_type": "error",
     "traceback": [
      "\u001b[1;31m---------------------------------------------------------------------------\u001b[0m",
      "\u001b[1;31mUnicodeEncodeError\u001b[0m                        Traceback (most recent call last)",
      "\u001b[1;32m<ipython-input-33-33eeead25566>\u001b[0m in \u001b[0;36m<module>\u001b[1;34m\u001b[0m\n\u001b[0;32m     10\u001b[0m search = RandomizedSearchCV(GradientBoostingRegressor(), param_dist, \n\u001b[0;32m     11\u001b[0m cv = 3, scoring = 'neg_mean_squared_error', n_iter=100, n_jobs = -1)\n\u001b[1;32m---> 12\u001b[1;33m \u001b[0msearch\u001b[0m\u001b[1;33m.\u001b[0m\u001b[0mfit\u001b[0m\u001b[1;33m(\u001b[0m\u001b[0mx_data\u001b[0m\u001b[1;33m,\u001b[0m \u001b[0my_data\u001b[0m\u001b[1;33m.\u001b[0m\u001b[0mravel\u001b[0m\u001b[1;33m(\u001b[0m\u001b[1;33m)\u001b[0m\u001b[1;33m)\u001b[0m\u001b[1;33m\u001b[0m\u001b[1;33m\u001b[0m\u001b[0m\n\u001b[0m\u001b[0;32m     13\u001b[0m \u001b[0msearch\u001b[0m\u001b[1;33m.\u001b[0m\u001b[0mbest_params_\u001b[0m\u001b[1;33m\u001b[0m\u001b[1;33m\u001b[0m\u001b[0m\n",
      "\u001b[1;32mD:\\anaconda\\lib\\site-packages\\sklearn\\utils\\validation.py\u001b[0m in \u001b[0;36minner_f\u001b[1;34m(*args, **kwargs)\u001b[0m\n\u001b[0;32m     70\u001b[0m                           FutureWarning)\n\u001b[0;32m     71\u001b[0m         \u001b[0mkwargs\u001b[0m\u001b[1;33m.\u001b[0m\u001b[0mupdate\u001b[0m\u001b[1;33m(\u001b[0m\u001b[1;33m{\u001b[0m\u001b[0mk\u001b[0m\u001b[1;33m:\u001b[0m \u001b[0marg\u001b[0m \u001b[1;32mfor\u001b[0m \u001b[0mk\u001b[0m\u001b[1;33m,\u001b[0m \u001b[0marg\u001b[0m \u001b[1;32min\u001b[0m \u001b[0mzip\u001b[0m\u001b[1;33m(\u001b[0m\u001b[0msig\u001b[0m\u001b[1;33m.\u001b[0m\u001b[0mparameters\u001b[0m\u001b[1;33m,\u001b[0m \u001b[0margs\u001b[0m\u001b[1;33m)\u001b[0m\u001b[1;33m}\u001b[0m\u001b[1;33m)\u001b[0m\u001b[1;33m\u001b[0m\u001b[1;33m\u001b[0m\u001b[0m\n\u001b[1;32m---> 72\u001b[1;33m         \u001b[1;32mreturn\u001b[0m \u001b[0mf\u001b[0m\u001b[1;33m(\u001b[0m\u001b[1;33m**\u001b[0m\u001b[0mkwargs\u001b[0m\u001b[1;33m)\u001b[0m\u001b[1;33m\u001b[0m\u001b[1;33m\u001b[0m\u001b[0m\n\u001b[0m\u001b[0;32m     73\u001b[0m     \u001b[1;32mreturn\u001b[0m \u001b[0minner_f\u001b[0m\u001b[1;33m\u001b[0m\u001b[1;33m\u001b[0m\u001b[0m\n\u001b[0;32m     74\u001b[0m \u001b[1;33m\u001b[0m\u001b[0m\n",
      "\u001b[1;32mD:\\anaconda\\lib\\site-packages\\sklearn\\model_selection\\_search.py\u001b[0m in \u001b[0;36mfit\u001b[1;34m(self, X, y, groups, **fit_params)\u001b[0m\n\u001b[0;32m    693\u001b[0m                                     verbose=self.verbose)\n\u001b[0;32m    694\u001b[0m         \u001b[0mresults\u001b[0m \u001b[1;33m=\u001b[0m \u001b[1;33m{\u001b[0m\u001b[1;33m}\u001b[0m\u001b[1;33m\u001b[0m\u001b[1;33m\u001b[0m\u001b[0m\n\u001b[1;32m--> 695\u001b[1;33m         \u001b[1;32mwith\u001b[0m \u001b[0mparallel\u001b[0m\u001b[1;33m:\u001b[0m\u001b[1;33m\u001b[0m\u001b[1;33m\u001b[0m\u001b[0m\n\u001b[0m\u001b[0;32m    696\u001b[0m             \u001b[0mall_candidate_params\u001b[0m \u001b[1;33m=\u001b[0m \u001b[1;33m[\u001b[0m\u001b[1;33m]\u001b[0m\u001b[1;33m\u001b[0m\u001b[1;33m\u001b[0m\u001b[0m\n\u001b[0;32m    697\u001b[0m             \u001b[0mall_out\u001b[0m \u001b[1;33m=\u001b[0m \u001b[1;33m[\u001b[0m\u001b[1;33m]\u001b[0m\u001b[1;33m\u001b[0m\u001b[1;33m\u001b[0m\u001b[0m\n",
      "\u001b[1;32mD:\\anaconda\\lib\\site-packages\\joblib\\parallel.py\u001b[0m in \u001b[0;36m__enter__\u001b[1;34m(self)\u001b[0m\n\u001b[0;32m    728\u001b[0m     \u001b[1;32mdef\u001b[0m \u001b[0m__enter__\u001b[0m\u001b[1;33m(\u001b[0m\u001b[0mself\u001b[0m\u001b[1;33m)\u001b[0m\u001b[1;33m:\u001b[0m\u001b[1;33m\u001b[0m\u001b[1;33m\u001b[0m\u001b[0m\n\u001b[0;32m    729\u001b[0m         \u001b[0mself\u001b[0m\u001b[1;33m.\u001b[0m\u001b[0m_managed_backend\u001b[0m \u001b[1;33m=\u001b[0m \u001b[1;32mTrue\u001b[0m\u001b[1;33m\u001b[0m\u001b[1;33m\u001b[0m\u001b[0m\n\u001b[1;32m--> 730\u001b[1;33m         \u001b[0mself\u001b[0m\u001b[1;33m.\u001b[0m\u001b[0m_initialize_backend\u001b[0m\u001b[1;33m(\u001b[0m\u001b[1;33m)\u001b[0m\u001b[1;33m\u001b[0m\u001b[1;33m\u001b[0m\u001b[0m\n\u001b[0m\u001b[0;32m    731\u001b[0m         \u001b[1;32mreturn\u001b[0m \u001b[0mself\u001b[0m\u001b[1;33m\u001b[0m\u001b[1;33m\u001b[0m\u001b[0m\n\u001b[0;32m    732\u001b[0m \u001b[1;33m\u001b[0m\u001b[0m\n",
      "\u001b[1;32mD:\\anaconda\\lib\\site-packages\\joblib\\parallel.py\u001b[0m in \u001b[0;36m_initialize_backend\u001b[1;34m(self)\u001b[0m\n\u001b[0;32m    738\u001b[0m         \u001b[1;34m\"\"\"Build a process or thread pool and return the number of workers\"\"\"\u001b[0m\u001b[1;33m\u001b[0m\u001b[1;33m\u001b[0m\u001b[0m\n\u001b[0;32m    739\u001b[0m         \u001b[1;32mtry\u001b[0m\u001b[1;33m:\u001b[0m\u001b[1;33m\u001b[0m\u001b[1;33m\u001b[0m\u001b[0m\n\u001b[1;32m--> 740\u001b[1;33m             n_jobs = self._backend.configure(n_jobs=self.n_jobs, parallel=self,\n\u001b[0m\u001b[0;32m    741\u001b[0m                                              **self._backend_args)\n\u001b[0;32m    742\u001b[0m             \u001b[1;32mif\u001b[0m \u001b[0mself\u001b[0m\u001b[1;33m.\u001b[0m\u001b[0mtimeout\u001b[0m \u001b[1;32mis\u001b[0m \u001b[1;32mnot\u001b[0m \u001b[1;32mNone\u001b[0m \u001b[1;32mand\u001b[0m \u001b[1;32mnot\u001b[0m \u001b[0mself\u001b[0m\u001b[1;33m.\u001b[0m\u001b[0m_backend\u001b[0m\u001b[1;33m.\u001b[0m\u001b[0msupports_timeout\u001b[0m\u001b[1;33m:\u001b[0m\u001b[1;33m\u001b[0m\u001b[1;33m\u001b[0m\u001b[0m\n",
      "\u001b[1;32mD:\\anaconda\\lib\\site-packages\\joblib\\_parallel_backends.py\u001b[0m in \u001b[0;36mconfigure\u001b[1;34m(self, n_jobs, parallel, prefer, require, idle_worker_timeout, **memmappingexecutor_args)\u001b[0m\n\u001b[0;32m    492\u001b[0m                 SequentialBackend(nesting_level=self.nesting_level))\n\u001b[0;32m    493\u001b[0m \u001b[1;33m\u001b[0m\u001b[0m\n\u001b[1;32m--> 494\u001b[1;33m         self._workers = get_memmapping_executor(\n\u001b[0m\u001b[0;32m    495\u001b[0m             \u001b[0mn_jobs\u001b[0m\u001b[1;33m,\u001b[0m \u001b[0mtimeout\u001b[0m\u001b[1;33m=\u001b[0m\u001b[0midle_worker_timeout\u001b[0m\u001b[1;33m,\u001b[0m\u001b[1;33m\u001b[0m\u001b[1;33m\u001b[0m\u001b[0m\n\u001b[0;32m    496\u001b[0m             \u001b[0menv\u001b[0m\u001b[1;33m=\u001b[0m\u001b[0mself\u001b[0m\u001b[1;33m.\u001b[0m\u001b[0m_prepare_worker_env\u001b[0m\u001b[1;33m(\u001b[0m\u001b[0mn_jobs\u001b[0m\u001b[1;33m=\u001b[0m\u001b[0mn_jobs\u001b[0m\u001b[1;33m)\u001b[0m\u001b[1;33m,\u001b[0m\u001b[1;33m\u001b[0m\u001b[1;33m\u001b[0m\u001b[0m\n",
      "\u001b[1;32mD:\\anaconda\\lib\\site-packages\\joblib\\executor.py\u001b[0m in \u001b[0;36mget_memmapping_executor\u001b[1;34m(n_jobs, **kwargs)\u001b[0m\n\u001b[0;32m     18\u001b[0m \u001b[1;33m\u001b[0m\u001b[0m\n\u001b[0;32m     19\u001b[0m \u001b[1;32mdef\u001b[0m \u001b[0mget_memmapping_executor\u001b[0m\u001b[1;33m(\u001b[0m\u001b[0mn_jobs\u001b[0m\u001b[1;33m,\u001b[0m \u001b[1;33m**\u001b[0m\u001b[0mkwargs\u001b[0m\u001b[1;33m)\u001b[0m\u001b[1;33m:\u001b[0m\u001b[1;33m\u001b[0m\u001b[1;33m\u001b[0m\u001b[0m\n\u001b[1;32m---> 20\u001b[1;33m     \u001b[1;32mreturn\u001b[0m \u001b[0mMemmappingExecutor\u001b[0m\u001b[1;33m.\u001b[0m\u001b[0mget_memmapping_executor\u001b[0m\u001b[1;33m(\u001b[0m\u001b[0mn_jobs\u001b[0m\u001b[1;33m,\u001b[0m \u001b[1;33m**\u001b[0m\u001b[0mkwargs\u001b[0m\u001b[1;33m)\u001b[0m\u001b[1;33m\u001b[0m\u001b[1;33m\u001b[0m\u001b[0m\n\u001b[0m\u001b[0;32m     21\u001b[0m \u001b[1;33m\u001b[0m\u001b[0m\n\u001b[0;32m     22\u001b[0m \u001b[1;33m\u001b[0m\u001b[0m\n",
      "\u001b[1;32mD:\\anaconda\\lib\\site-packages\\joblib\\executor.py\u001b[0m in \u001b[0;36mget_memmapping_executor\u001b[1;34m(cls, n_jobs, timeout, initializer, initargs, env, temp_folder, context_id, **backend_args)\u001b[0m\n\u001b[0;32m     40\u001b[0m         \u001b[0m_executor_args\u001b[0m \u001b[1;33m=\u001b[0m \u001b[0mexecutor_args\u001b[0m\u001b[1;33m\u001b[0m\u001b[1;33m\u001b[0m\u001b[0m\n\u001b[0;32m     41\u001b[0m \u001b[1;33m\u001b[0m\u001b[0m\n\u001b[1;32m---> 42\u001b[1;33m         \u001b[0mmanager\u001b[0m \u001b[1;33m=\u001b[0m \u001b[0mTemporaryResourcesManager\u001b[0m\u001b[1;33m(\u001b[0m\u001b[0mtemp_folder\u001b[0m\u001b[1;33m)\u001b[0m\u001b[1;33m\u001b[0m\u001b[1;33m\u001b[0m\u001b[0m\n\u001b[0m\u001b[0;32m     43\u001b[0m \u001b[1;33m\u001b[0m\u001b[0m\n\u001b[0;32m     44\u001b[0m         \u001b[1;31m# reducers access the temporary folder in which to store temporary\u001b[0m\u001b[1;33m\u001b[0m\u001b[1;33m\u001b[0m\u001b[1;33m\u001b[0m\u001b[0m\n",
      "\u001b[1;32mD:\\anaconda\\lib\\site-packages\\joblib\\_memmapping_reducer.py\u001b[0m in \u001b[0;36m__init__\u001b[1;34m(self, temp_folder_root, context_id)\u001b[0m\n\u001b[0;32m    529\u001b[0m             \u001b[1;31m# exposes exposes too many low-level details.\u001b[0m\u001b[1;33m\u001b[0m\u001b[1;33m\u001b[0m\u001b[1;33m\u001b[0m\u001b[0m\n\u001b[0;32m    530\u001b[0m             \u001b[0mcontext_id\u001b[0m \u001b[1;33m=\u001b[0m \u001b[0muuid4\u001b[0m\u001b[1;33m(\u001b[0m\u001b[1;33m)\u001b[0m\u001b[1;33m.\u001b[0m\u001b[0mhex\u001b[0m\u001b[1;33m\u001b[0m\u001b[1;33m\u001b[0m\u001b[0m\n\u001b[1;32m--> 531\u001b[1;33m         \u001b[0mself\u001b[0m\u001b[1;33m.\u001b[0m\u001b[0mset_current_context\u001b[0m\u001b[1;33m(\u001b[0m\u001b[0mcontext_id\u001b[0m\u001b[1;33m)\u001b[0m\u001b[1;33m\u001b[0m\u001b[1;33m\u001b[0m\u001b[0m\n\u001b[0m\u001b[0;32m    532\u001b[0m \u001b[1;33m\u001b[0m\u001b[0m\n\u001b[0;32m    533\u001b[0m     \u001b[1;32mdef\u001b[0m \u001b[0mset_current_context\u001b[0m\u001b[1;33m(\u001b[0m\u001b[0mself\u001b[0m\u001b[1;33m,\u001b[0m \u001b[0mcontext_id\u001b[0m\u001b[1;33m)\u001b[0m\u001b[1;33m:\u001b[0m\u001b[1;33m\u001b[0m\u001b[1;33m\u001b[0m\u001b[0m\n",
      "\u001b[1;32mD:\\anaconda\\lib\\site-packages\\joblib\\_memmapping_reducer.py\u001b[0m in \u001b[0;36mset_current_context\u001b[1;34m(self, context_id)\u001b[0m\n\u001b[0;32m    533\u001b[0m     \u001b[1;32mdef\u001b[0m \u001b[0mset_current_context\u001b[0m\u001b[1;33m(\u001b[0m\u001b[0mself\u001b[0m\u001b[1;33m,\u001b[0m \u001b[0mcontext_id\u001b[0m\u001b[1;33m)\u001b[0m\u001b[1;33m:\u001b[0m\u001b[1;33m\u001b[0m\u001b[1;33m\u001b[0m\u001b[0m\n\u001b[0;32m    534\u001b[0m         \u001b[0mself\u001b[0m\u001b[1;33m.\u001b[0m\u001b[0m_current_context_id\u001b[0m \u001b[1;33m=\u001b[0m \u001b[0mcontext_id\u001b[0m\u001b[1;33m\u001b[0m\u001b[1;33m\u001b[0m\u001b[0m\n\u001b[1;32m--> 535\u001b[1;33m         \u001b[0mself\u001b[0m\u001b[1;33m.\u001b[0m\u001b[0mregister_new_context\u001b[0m\u001b[1;33m(\u001b[0m\u001b[0mcontext_id\u001b[0m\u001b[1;33m)\u001b[0m\u001b[1;33m\u001b[0m\u001b[1;33m\u001b[0m\u001b[0m\n\u001b[0m\u001b[0;32m    536\u001b[0m \u001b[1;33m\u001b[0m\u001b[0m\n\u001b[0;32m    537\u001b[0m     \u001b[1;32mdef\u001b[0m \u001b[0mregister_new_context\u001b[0m\u001b[1;33m(\u001b[0m\u001b[0mself\u001b[0m\u001b[1;33m,\u001b[0m \u001b[0mcontext_id\u001b[0m\u001b[1;33m)\u001b[0m\u001b[1;33m:\u001b[0m\u001b[1;33m\u001b[0m\u001b[1;33m\u001b[0m\u001b[0m\n",
      "\u001b[1;32mD:\\anaconda\\lib\\site-packages\\joblib\\_memmapping_reducer.py\u001b[0m in \u001b[0;36mregister_new_context\u001b[1;34m(self, context_id)\u001b[0m\n\u001b[0;32m    558\u001b[0m                 \u001b[0mnew_folder_name\u001b[0m\u001b[1;33m,\u001b[0m \u001b[0mself\u001b[0m\u001b[1;33m.\u001b[0m\u001b[0m_temp_folder_root\u001b[0m\u001b[1;33m\u001b[0m\u001b[1;33m\u001b[0m\u001b[0m\n\u001b[0;32m    559\u001b[0m             )\n\u001b[1;32m--> 560\u001b[1;33m             \u001b[0mself\u001b[0m\u001b[1;33m.\u001b[0m\u001b[0mregister_folder_finalizer\u001b[0m\u001b[1;33m(\u001b[0m\u001b[0mnew_folder_path\u001b[0m\u001b[1;33m,\u001b[0m \u001b[0mcontext_id\u001b[0m\u001b[1;33m)\u001b[0m\u001b[1;33m\u001b[0m\u001b[1;33m\u001b[0m\u001b[0m\n\u001b[0m\u001b[0;32m    561\u001b[0m             \u001b[0mself\u001b[0m\u001b[1;33m.\u001b[0m\u001b[0m_cached_temp_folders\u001b[0m\u001b[1;33m[\u001b[0m\u001b[0mcontext_id\u001b[0m\u001b[1;33m]\u001b[0m \u001b[1;33m=\u001b[0m \u001b[0mnew_folder_path\u001b[0m\u001b[1;33m\u001b[0m\u001b[1;33m\u001b[0m\u001b[0m\n\u001b[0;32m    562\u001b[0m \u001b[1;33m\u001b[0m\u001b[0m\n",
      "\u001b[1;32mD:\\anaconda\\lib\\site-packages\\joblib\\_memmapping_reducer.py\u001b[0m in \u001b[0;36mregister_folder_finalizer\u001b[1;34m(self, pool_subfolder, context_id)\u001b[0m\n\u001b[0;32m    588\u001b[0m         \u001b[1;31m# semaphores and pipes\u001b[0m\u001b[1;33m\u001b[0m\u001b[1;33m\u001b[0m\u001b[1;33m\u001b[0m\u001b[0m\n\u001b[0;32m    589\u001b[0m         \u001b[0mpool_module_name\u001b[0m \u001b[1;33m=\u001b[0m \u001b[0mwhichmodule\u001b[0m\u001b[1;33m(\u001b[0m\u001b[0mdelete_folder\u001b[0m\u001b[1;33m,\u001b[0m \u001b[1;34m'delete_folder'\u001b[0m\u001b[1;33m)\u001b[0m\u001b[1;33m\u001b[0m\u001b[1;33m\u001b[0m\u001b[0m\n\u001b[1;32m--> 590\u001b[1;33m         \u001b[0mresource_tracker\u001b[0m\u001b[1;33m.\u001b[0m\u001b[0mregister\u001b[0m\u001b[1;33m(\u001b[0m\u001b[0mpool_subfolder\u001b[0m\u001b[1;33m,\u001b[0m \u001b[1;34m\"folder\"\u001b[0m\u001b[1;33m)\u001b[0m\u001b[1;33m\u001b[0m\u001b[1;33m\u001b[0m\u001b[0m\n\u001b[0m\u001b[0;32m    591\u001b[0m \u001b[1;33m\u001b[0m\u001b[0m\n\u001b[0;32m    592\u001b[0m         \u001b[1;32mdef\u001b[0m \u001b[0m_cleanup\u001b[0m\u001b[1;33m(\u001b[0m\u001b[1;33m)\u001b[0m\u001b[1;33m:\u001b[0m\u001b[1;33m\u001b[0m\u001b[1;33m\u001b[0m\u001b[0m\n",
      "\u001b[1;32mD:\\anaconda\\lib\\site-packages\\joblib\\externals\\loky\\backend\\resource_tracker.py\u001b[0m in \u001b[0;36mregister\u001b[1;34m(self, name, rtype)\u001b[0m\n\u001b[0;32m    189\u001b[0m         \u001b[1;34m'''Register a named resource, and increment its refcount.'''\u001b[0m\u001b[1;33m\u001b[0m\u001b[1;33m\u001b[0m\u001b[0m\n\u001b[0;32m    190\u001b[0m         \u001b[0mself\u001b[0m\u001b[1;33m.\u001b[0m\u001b[0mensure_running\u001b[0m\u001b[1;33m(\u001b[0m\u001b[1;33m)\u001b[0m\u001b[1;33m\u001b[0m\u001b[1;33m\u001b[0m\u001b[0m\n\u001b[1;32m--> 191\u001b[1;33m         \u001b[0mself\u001b[0m\u001b[1;33m.\u001b[0m\u001b[0m_send\u001b[0m\u001b[1;33m(\u001b[0m\u001b[1;34m'REGISTER'\u001b[0m\u001b[1;33m,\u001b[0m \u001b[0mname\u001b[0m\u001b[1;33m,\u001b[0m \u001b[0mrtype\u001b[0m\u001b[1;33m)\u001b[0m\u001b[1;33m\u001b[0m\u001b[1;33m\u001b[0m\u001b[0m\n\u001b[0m\u001b[0;32m    192\u001b[0m \u001b[1;33m\u001b[0m\u001b[0m\n\u001b[0;32m    193\u001b[0m     \u001b[1;32mdef\u001b[0m \u001b[0munregister\u001b[0m\u001b[1;33m(\u001b[0m\u001b[0mself\u001b[0m\u001b[1;33m,\u001b[0m \u001b[0mname\u001b[0m\u001b[1;33m,\u001b[0m \u001b[0mrtype\u001b[0m\u001b[1;33m)\u001b[0m\u001b[1;33m:\u001b[0m\u001b[1;33m\u001b[0m\u001b[1;33m\u001b[0m\u001b[0m\n",
      "\u001b[1;32mD:\\anaconda\\lib\\site-packages\\joblib\\externals\\loky\\backend\\resource_tracker.py\u001b[0m in \u001b[0;36m_send\u001b[1;34m(self, cmd, name, rtype)\u001b[0m\n\u001b[0;32m    202\u001b[0m \u001b[1;33m\u001b[0m\u001b[0m\n\u001b[0;32m    203\u001b[0m     \u001b[1;32mdef\u001b[0m \u001b[0m_send\u001b[0m\u001b[1;33m(\u001b[0m\u001b[0mself\u001b[0m\u001b[1;33m,\u001b[0m \u001b[0mcmd\u001b[0m\u001b[1;33m,\u001b[0m \u001b[0mname\u001b[0m\u001b[1;33m,\u001b[0m \u001b[0mrtype\u001b[0m\u001b[1;33m)\u001b[0m\u001b[1;33m:\u001b[0m\u001b[1;33m\u001b[0m\u001b[1;33m\u001b[0m\u001b[0m\n\u001b[1;32m--> 204\u001b[1;33m         \u001b[0mmsg\u001b[0m \u001b[1;33m=\u001b[0m \u001b[1;34m'{0}:{1}:{2}\\n'\u001b[0m\u001b[1;33m.\u001b[0m\u001b[0mformat\u001b[0m\u001b[1;33m(\u001b[0m\u001b[0mcmd\u001b[0m\u001b[1;33m,\u001b[0m \u001b[0mname\u001b[0m\u001b[1;33m,\u001b[0m \u001b[0mrtype\u001b[0m\u001b[1;33m)\u001b[0m\u001b[1;33m.\u001b[0m\u001b[0mencode\u001b[0m\u001b[1;33m(\u001b[0m\u001b[1;34m'ascii'\u001b[0m\u001b[1;33m)\u001b[0m\u001b[1;33m\u001b[0m\u001b[1;33m\u001b[0m\u001b[0m\n\u001b[0m\u001b[0;32m    205\u001b[0m         \u001b[1;32mif\u001b[0m \u001b[0mlen\u001b[0m\u001b[1;33m(\u001b[0m\u001b[0mname\u001b[0m\u001b[1;33m)\u001b[0m \u001b[1;33m>\u001b[0m \u001b[1;36m512\u001b[0m\u001b[1;33m:\u001b[0m\u001b[1;33m\u001b[0m\u001b[1;33m\u001b[0m\u001b[0m\n\u001b[0;32m    206\u001b[0m             \u001b[1;31m# posix guarantees that writes to a pipe of less than PIPE_BUF\u001b[0m\u001b[1;33m\u001b[0m\u001b[1;33m\u001b[0m\u001b[1;33m\u001b[0m\u001b[0m\n",
      "\u001b[1;31mUnicodeEncodeError\u001b[0m: 'ascii' codec can't encode characters in position 18-20: ordinal not in range(128)"
     ]
    }
   ],
   "source": [
    "# 模型参数调优\n",
    "# 随机搜索调参\n",
    "from sklearn.model_selection import RandomizedSearchCV\n",
    "\n",
    "param_dist = {\n",
    "'learning_rate': np.linspace(0.01, 0.02, 10),\n",
    "'subsample': np.linspace(0.4, 0.6, 10),\n",
    "}\n",
    "\n",
    "search = RandomizedSearchCV(GradientBoostingRegressor(), param_dist, \n",
    "cv = 3, scoring = 'neg_mean_squared_error', n_iter=100, n_jobs = -1)\n",
    "search.fit(x_data, y_data.ravel())\n",
    "search.best_params_"
   ]
  },
  {
   "cell_type": "code",
   "execution_count": null,
   "metadata": {},
   "outputs": [],
   "source": [
    "# 根据测试集预测score结果\n",
    "from sklearn.ensemble import GradientBoostingRegressor\n",
    "\n",
    "gbr = GradientBoostingRegressor(max_depth=4, n_estimators=3460, subsample=0.53, learning_rate=0.02)\n",
    "gbr.fit(x_data, y_data.ravel())\n",
    "predict_gbr = gbr.predict(test_x)"
   ]
  },
  {
   "cell_type": "code",
   "execution_count": null,
   "metadata": {},
   "outputs": [],
   "source": [
    "# 将预测结果写入csv文件\n",
    "origin_data = pd.read_csv('/data/test.csv')\n",
    "result = pd.concat([origin_data, pd.DataFrame(predict_gbr)], axis=1)\n",
    "result.to_csv('./work2/predict.csv')"
   ]
  },
  {
   "cell_type": "code",
   "execution_count": null,
   "metadata": {},
   "outputs": [],
   "source": []
  }
 ],
 "metadata": {
  "kernelspec": {
   "display_name": "Python 3",
   "language": "python",
   "name": "python3"
  },
  "language_info": {
   "codemirror_mode": {
    "name": "ipython",
    "version": 3
   },
   "file_extension": ".py",
   "mimetype": "text/x-python",
   "name": "python",
   "nbconvert_exporter": "python",
   "pygments_lexer": "ipython3",
   "version": "3.8.5"
  }
 },
 "nbformat": 4,
 "nbformat_minor": 4
}
